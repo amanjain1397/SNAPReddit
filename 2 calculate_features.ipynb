{
 "cells": [
  {
   "cell_type": "code",
   "execution_count": 1,
   "metadata": {
    "colab": {},
    "colab_type": "code",
    "id": "grYqJEhZ87sx"
   },
   "outputs": [],
   "source": [
    "import networkx as nx\n",
    "from functools import partial\n",
    "import pandas as pd\n",
    "import numpy as np\n",
    "import pickle\n",
    "import _pickle as cPickle\n",
    "#from networkit import linkprediction as lp, nxadapter\n",
    "#lp for link-prediction, nxadapter for converting nx graph to networkit graph\n",
    "\n",
    "import csv\n",
    "import json\n",
    "from networkx.readwrite import json_graph\n",
    "\n",
    "from sklearn.metrics.pairwise import cosine_similarity\n",
    "import tqdm"
   ]
  },
  {
   "cell_type": "code",
   "execution_count": 0,
   "metadata": {
    "colab": {},
    "colab_type": "code",
    "id": "FPQGksG06ZVY"
   },
   "outputs": [],
   "source": [
    "train = pd.read_csv('./input/train.csv')\n",
    "test = pd.read_csv('./input/test.csv')"
   ]
  },
  {
   "cell_type": "code",
   "execution_count": 0,
   "metadata": {
    "colab": {},
    "colab_type": "code",
    "id": "tQ0WjQVKgmU4"
   },
   "outputs": [],
   "source": [
    "with open('./input/embeddings.pickle', 'rb') as handle:\n",
    "  embeddings = pickle.load(handle)"
   ]
  },
  {
   "cell_type": "code",
   "execution_count": 0,
   "metadata": {
    "colab": {},
    "colab_type": "code",
    "id": "SIQZg6boeH88"
   },
   "outputs": [],
   "source": [
    "valid_graph = nx.read_gpickle(\"./input/valid_graph.gpickle\")\n",
    "test_graph = nx.read_gpickle(\"./input/test_graph.gpickle\")\n",
    "train_graph = nx.read_gpickle(\"./input/train_graph.gpickle\")"
   ]
  },
  {
   "cell_type": "code",
   "execution_count": 0,
   "metadata": {
    "colab": {
     "base_uri": "https://localhost:8080/",
     "height": 195
    },
    "colab_type": "code",
    "executionInfo": {
     "elapsed": 1275,
     "status": "ok",
     "timestamp": 1556297391262,
     "user": {
      "displayName": "Aman Jain",
      "photoUrl": "https://lh3.googleusercontent.com/-2L9lzNXz50I/AAAAAAAAAAI/AAAAAAAABI0/rHBzy7ajd9w/s64/photo.jpg",
      "userId": "03223253466755539380"
     },
     "user_tz": -330
    },
    "id": "-jUzdGW-7e0e",
    "outputId": "9c1af71e-795d-4012-ee0e-4af9cc30b35b"
   },
   "outputs": [
    {
     "data": {
      "text/html": [
       "<div>\n",
       "<style scoped>\n",
       "    .dataframe tbody tr th:only-of-type {\n",
       "        vertical-align: middle;\n",
       "    }\n",
       "\n",
       "    .dataframe tbody tr th {\n",
       "        vertical-align: top;\n",
       "    }\n",
       "\n",
       "    .dataframe thead th {\n",
       "        text-align: right;\n",
       "    }\n",
       "</style>\n",
       "<table border=\"1\" class=\"dataframe\">\n",
       "  <thead>\n",
       "    <tr style=\"text-align: right;\">\n",
       "      <th></th>\n",
       "      <th>src</th>\n",
       "      <th>tar</th>\n",
       "      <th>label</th>\n",
       "      <th>cos_sim</th>\n",
       "    </tr>\n",
       "  </thead>\n",
       "  <tbody>\n",
       "    <tr>\n",
       "      <th>0</th>\n",
       "      <td>0</td>\n",
       "      <td>2</td>\n",
       "      <td>0</td>\n",
       "      <td>-0.524723</td>\n",
       "    </tr>\n",
       "    <tr>\n",
       "      <th>1</th>\n",
       "      <td>0</td>\n",
       "      <td>10</td>\n",
       "      <td>0</td>\n",
       "      <td>0.335463</td>\n",
       "    </tr>\n",
       "    <tr>\n",
       "      <th>2</th>\n",
       "      <td>0</td>\n",
       "      <td>26</td>\n",
       "      <td>0</td>\n",
       "      <td>0.344200</td>\n",
       "    </tr>\n",
       "    <tr>\n",
       "      <th>3</th>\n",
       "      <td>0</td>\n",
       "      <td>43</td>\n",
       "      <td>0</td>\n",
       "      <td>-0.241197</td>\n",
       "    </tr>\n",
       "    <tr>\n",
       "      <th>4</th>\n",
       "      <td>0</td>\n",
       "      <td>57</td>\n",
       "      <td>0</td>\n",
       "      <td>-0.251312</td>\n",
       "    </tr>\n",
       "  </tbody>\n",
       "</table>\n",
       "</div>"
      ],
      "text/plain": [
       "   src  tar  label   cos_sim\n",
       "0    0    2      0 -0.524723\n",
       "1    0   10      0  0.335463\n",
       "2    0   26      0  0.344200\n",
       "3    0   43      0 -0.241197\n",
       "4    0   57      0 -0.251312"
      ]
     },
     "execution_count": 14,
     "metadata": {
      "tags": []
     },
     "output_type": "execute_result"
    }
   ],
   "source": [
    "train.head()"
   ]
  },
  {
   "cell_type": "code",
   "execution_count": 0,
   "metadata": {
    "colab": {
     "base_uri": "https://localhost:8080/",
     "height": 195
    },
    "colab_type": "code",
    "executionInfo": {
     "elapsed": 1403,
     "status": "ok",
     "timestamp": 1556297223800,
     "user": {
      "displayName": "Aman Jain",
      "photoUrl": "https://lh3.googleusercontent.com/-2L9lzNXz50I/AAAAAAAAAAI/AAAAAAAABI0/rHBzy7ajd9w/s64/photo.jpg",
      "userId": "03223253466755539380"
     },
     "user_tz": -330
    },
    "id": "SH8n8kdSMYXI",
    "outputId": "0294d5f1-81b4-4699-ccf6-0ff41a472428"
   },
   "outputs": [
    {
     "data": {
      "text/html": [
       "<div>\n",
       "<style scoped>\n",
       "    .dataframe tbody tr th:only-of-type {\n",
       "        vertical-align: middle;\n",
       "    }\n",
       "\n",
       "    .dataframe tbody tr th {\n",
       "        vertical-align: top;\n",
       "    }\n",
       "\n",
       "    .dataframe thead th {\n",
       "        text-align: right;\n",
       "    }\n",
       "</style>\n",
       "<table border=\"1\" class=\"dataframe\">\n",
       "  <thead>\n",
       "    <tr style=\"text-align: right;\">\n",
       "      <th></th>\n",
       "      <th>src</th>\n",
       "      <th>tar</th>\n",
       "      <th>label</th>\n",
       "    </tr>\n",
       "  </thead>\n",
       "  <tbody>\n",
       "    <tr>\n",
       "      <th>0</th>\n",
       "      <td>0</td>\n",
       "      <td>2</td>\n",
       "      <td>0</td>\n",
       "    </tr>\n",
       "    <tr>\n",
       "      <th>1</th>\n",
       "      <td>0</td>\n",
       "      <td>7</td>\n",
       "      <td>0</td>\n",
       "    </tr>\n",
       "    <tr>\n",
       "      <th>2</th>\n",
       "      <td>0</td>\n",
       "      <td>10</td>\n",
       "      <td>0</td>\n",
       "    </tr>\n",
       "    <tr>\n",
       "      <th>3</th>\n",
       "      <td>0</td>\n",
       "      <td>26</td>\n",
       "      <td>0</td>\n",
       "    </tr>\n",
       "    <tr>\n",
       "      <th>4</th>\n",
       "      <td>0</td>\n",
       "      <td>43</td>\n",
       "      <td>0</td>\n",
       "    </tr>\n",
       "  </tbody>\n",
       "</table>\n",
       "</div>"
      ],
      "text/plain": [
       "   src  tar  label\n",
       "0    0    2      0\n",
       "1    0    7      0\n",
       "2    0   10      0\n",
       "3    0   26      0\n",
       "4    0   43      0"
      ]
     },
     "execution_count": 13,
     "metadata": {
      "tags": []
     },
     "output_type": "execute_result"
    }
   ],
   "source": [
    "test.head()"
   ]
  },
  {
   "cell_type": "code",
   "execution_count": 0,
   "metadata": {
    "colab": {
     "base_uri": "https://localhost:8080/",
     "height": 67
    },
    "colab_type": "code",
    "executionInfo": {
     "elapsed": 1131,
     "status": "ok",
     "timestamp": 1556298313241,
     "user": {
      "displayName": "Aman Jain",
      "photoUrl": "https://lh3.googleusercontent.com/-2L9lzNXz50I/AAAAAAAAAAI/AAAAAAAABI0/rHBzy7ajd9w/s64/photo.jpg",
      "userId": "03223253466755539380"
     },
     "user_tz": -330
    },
    "id": "3oUos3FnmkXl",
    "outputId": "83311012-ce34-4d3d-cd26-f2f2e0bb7e49"
   },
   "outputs": [
    {
     "data": {
      "text/plain": [
       "0    1772223\n",
       "1        578\n",
       "Name: label, dtype: int64"
      ]
     },
     "execution_count": 17,
     "metadata": {
      "tags": []
     },
     "output_type": "execute_result"
    }
   ],
   "source": [
    "test['label'].value_counts()"
   ]
  },
  {
   "cell_type": "code",
   "execution_count": 0,
   "metadata": {
    "colab": {
     "base_uri": "https://localhost:8080/",
     "height": 67
    },
    "colab_type": "code",
    "executionInfo": {
     "elapsed": 1179,
     "status": "ok",
     "timestamp": 1556298808889,
     "user": {
      "displayName": "Aman Jain",
      "photoUrl": "https://lh3.googleusercontent.com/-2L9lzNXz50I/AAAAAAAAAAI/AAAAAAAABI0/rHBzy7ajd9w/s64/photo.jpg",
      "userId": "03223253466755539380"
     },
     "user_tz": -330
    },
    "id": "oYmi4jvboxje",
    "outputId": "4b825f89-9034-4f82-c284-f961ceaea5a8"
   },
   "outputs": [
    {
     "data": {
      "text/plain": [
       "0    1347041\n",
       "1       1908\n",
       "Name: label, dtype: int64"
      ]
     },
     "execution_count": 18,
     "metadata": {
      "tags": []
     },
     "output_type": "execute_result"
    }
   ],
   "source": [
    "train.label.value_counts()"
   ]
  },
  {
   "cell_type": "markdown",
   "metadata": {
    "colab_type": "text",
    "id": "FX1K9wJ1OExQ"
   },
   "source": [
    "Calculating **Cosine Similarity** between source and target subreddit embeddings"
   ]
  },
  {
   "cell_type": "code",
   "execution_count": 0,
   "metadata": {
    "colab": {},
    "colab_type": "code",
    "id": "63ir-lrbMlsC"
   },
   "outputs": [],
   "source": [
    "for i in tqdm.tqdm(range(len(test))):\n",
    "  test.loc[i, 'cos_sim'] = sum(np.array(list(embeddings[test_dict['src'][i]].values())) * np.array(list(embeddings[test_dict['tar'][i]].values())))"
   ]
  },
  {
   "cell_type": "code",
   "execution_count": 0,
   "metadata": {
    "colab": {},
    "colab_type": "code",
    "id": "6U99BsqhMoca"
   },
   "outputs": [],
   "source": [
    "for i in tqdm.tqdm(range(len(train))):\n",
    "  train.loc[i, 'cos_sim'] = sum(np.array(list(embeddings[train_dict['src'][i]].values())) * np.array(list(embeddings[train_dict['tar'][i]].values())))"
   ]
  },
  {
   "cell_type": "markdown",
   "metadata": {
    "colab_type": "text",
    "id": "iNCkZ2mwPfMi"
   },
   "source": [
    "Converting 'test' and 'train' to 'test_dict' and 'train_dict'"
   ]
  },
  {
   "cell_type": "code",
   "execution_count": 0,
   "metadata": {
    "colab": {},
    "colab_type": "code",
    "id": "LzDP1vkF84uy"
   },
   "outputs": [],
   "source": [
    "test_dict = test.to_dict(orient = 'series')\n",
    "train_dict = train.to_dict(orient = 'series')"
   ]
  },
  {
   "cell_type": "code",
   "execution_count": 0,
   "metadata": {
    "colab": {
     "base_uri": "https://localhost:8080/",
     "height": 34
    },
    "colab_type": "code",
    "executionInfo": {
     "elapsed": 21014,
     "status": "ok",
     "timestamp": 1555949564532,
     "user": {
      "displayName": "Aman Jain",
      "photoUrl": "https://lh3.googleusercontent.com/-2L9lzNXz50I/AAAAAAAAAAI/AAAAAAAABI0/rHBzy7ajd9w/s64/photo.jpg",
      "userId": "03223253466755539380"
     },
     "user_tz": -330
    },
    "id": "xc-YhBBA3u4Y",
    "outputId": "7cf05b1e-0bec-4cdb-da9d-44ec7856b52e"
   },
   "outputs": [
    {
     "name": "stderr",
     "output_type": "stream",
     "text": [
      "100%|██████████| 1772801/1772801 [00:19<00:00, 89404.16it/s] \n"
     ]
    }
   ],
   "source": [
    "#Deductive Metric - DED\n",
    "\n",
    "test_dict['DED'] = {}\n",
    "for i in tqdm.tqdm(range(len(test_dict['src']))):\n",
    "  try:\n",
    "    test_dict['DED'][i] = len(set(test_graph.successors(test_dict['src'][i])).intersection(set(test_graph.predecessors(test_dict['tar'][i]))))/len(set(test_graph.successors(test_dict['src'][i])))\n",
    "  except ZeroDivisionError:\n",
    "    test_dict['DED'][i] = 0"
   ]
  },
  {
   "cell_type": "code",
   "execution_count": 0,
   "metadata": {
    "colab": {
     "base_uri": "https://localhost:8080/",
     "height": 34
    },
    "colab_type": "code",
    "executionInfo": {
     "elapsed": 141601,
     "status": "ok",
     "timestamp": 1555949685573,
     "user": {
      "displayName": "Aman Jain",
      "photoUrl": "https://lh3.googleusercontent.com/-2L9lzNXz50I/AAAAAAAAAAI/AAAAAAAABI0/rHBzy7ajd9w/s64/photo.jpg",
      "userId": "03223253466755539380"
     },
     "user_tz": -330
    },
    "id": "zM0BOgpXtuFn",
    "outputId": "80c5c681-c70e-4244-f49d-6a059903896b"
   },
   "outputs": [
    {
     "name": "stderr",
     "output_type": "stream",
     "text": [
      "100%|██████████| 1348949/1348949 [02:00<00:00, 11158.00it/s]\n"
     ]
    }
   ],
   "source": [
    "train_dict['DED'] = {}\n",
    "for i in tqdm.tqdm(range(len(train_dict['src']))):\n",
    "  try:\n",
    "    train_dict['DED'][i] = len(set(train_graph.successors(train_dict['src'][i])).intersection(set(train_graph.predecessors(train_dict['tar'][i]))))/len(set(train_graph.successors(train_dict['src'][i])))\n",
    "  except ZeroDivisionError:\n",
    "    train_dict['DED'][i] = 0"
   ]
  },
  {
   "cell_type": "code",
   "execution_count": 0,
   "metadata": {
    "colab": {
     "base_uri": "https://localhost:8080/",
     "height": 34
    },
    "colab_type": "code",
    "executionInfo": {
     "elapsed": 156972,
     "status": "ok",
     "timestamp": 1555949701359,
     "user": {
      "displayName": "Aman Jain",
      "photoUrl": "https://lh3.googleusercontent.com/-2L9lzNXz50I/AAAAAAAAAAI/AAAAAAAABI0/rHBzy7ajd9w/s64/photo.jpg",
      "userId": "03223253466755539380"
     },
     "user_tz": -330
    },
    "id": "rVWtuemx9dWw",
    "outputId": "3b50b7fe-af2f-4ed4-8a8a-f153fef59348"
   },
   "outputs": [
    {
     "name": "stderr",
     "output_type": "stream",
     "text": [
      "100%|██████████| 1772801/1772801 [00:16<00:00, 108703.48it/s]\n"
     ]
    }
   ],
   "source": [
    "#Inductive Metric - IND\n",
    "\n",
    "test_dict['IND'] = {}\n",
    "for i in tqdm.tqdm(range(len(test_dict['src']))):\n",
    "  try:\n",
    "    test_dict['IND'][i] = len(set(test_graph.predecessors(test_dict['src'][i])).intersection(set(test_graph.predecessors(test_dict['tar'][i]))))/len(set(test_graph.predecessors(test_dict['src'][i])))\n",
    "  except ZeroDivisionError:\n",
    "    test_dict['IND'][i] = 0"
   ]
  },
  {
   "cell_type": "code",
   "execution_count": 0,
   "metadata": {
    "colab": {
     "base_uri": "https://localhost:8080/",
     "height": 34
    },
    "colab_type": "code",
    "executionInfo": {
     "elapsed": 271355,
     "status": "ok",
     "timestamp": 1555949816037,
     "user": {
      "displayName": "Aman Jain",
      "photoUrl": "https://lh3.googleusercontent.com/-2L9lzNXz50I/AAAAAAAAAAI/AAAAAAAABI0/rHBzy7ajd9w/s64/photo.jpg",
      "userId": "03223253466755539380"
     },
     "user_tz": -330
    },
    "id": "pb-dYLULtSUN",
    "outputId": "1a465705-5f46-4291-ca34-75fbe1e86b67"
   },
   "outputs": [
    {
     "name": "stderr",
     "output_type": "stream",
     "text": [
      "100%|██████████| 1348949/1348949 [01:54<00:00, 11770.83it/s]\n"
     ]
    }
   ],
   "source": [
    "train_dict['IND'] = {}\n",
    "for i in tqdm.tqdm(range(len(train_dict['src']))):\n",
    "  try:\n",
    "    train_dict['IND'][i] = len(set(train_graph.predecessors(train_dict['src'][i])).intersection(set(train_graph.predecessors(train_dict['tar'][i]))))/len(set(train_graph.predecessors(train_dict['src'][i])))\n",
    "  except ZeroDivisionError:\n",
    "    train_dict['IND'][i] = 0"
   ]
  },
  {
   "cell_type": "code",
   "execution_count": 0,
   "metadata": {
    "colab": {
     "base_uri": "https://localhost:8080/",
     "height": 34
    },
    "colab_type": "code",
    "executionInfo": {
     "elapsed": 282668,
     "status": "ok",
     "timestamp": 1555949827847,
     "user": {
      "displayName": "Aman Jain",
      "photoUrl": "https://lh3.googleusercontent.com/-2L9lzNXz50I/AAAAAAAAAAI/AAAAAAAABI0/rHBzy7ajd9w/s64/photo.jpg",
      "userId": "03223253466755539380"
     },
     "user_tz": -330
    },
    "id": "xP5qHY6wLeQw",
    "outputId": "bbbf6d0f-31dd-4990-c9fe-75fdeeebdf40"
   },
   "outputs": [
    {
     "name": "stderr",
     "output_type": "stream",
     "text": [
      "100%|██████████| 1772801/1772801 [00:11<00:00, 149520.09it/s]\n"
     ]
    }
   ],
   "source": [
    "#DED_LOG\n",
    "\n",
    "test_dict['DED_LOG'] = {}\n",
    "for i in tqdm.tqdm(range(len(test_dict['src']))):\n",
    "  DED_SCORE = test_dict['DED'][i]\n",
    "  if(DED_SCORE):\n",
    "    test_dict['DED_LOG'][i] = DED_SCORE * np.log(len(set(test_graph.successors(test_dict['src'][i]))))\n",
    "  else:\n",
    "    test_dict['DED_LOG'][i] = 0"
   ]
  },
  {
   "cell_type": "code",
   "execution_count": 0,
   "metadata": {
    "colab": {
     "base_uri": "https://localhost:8080/",
     "height": 34
    },
    "colab_type": "code",
    "executionInfo": {
     "elapsed": 329221,
     "status": "ok",
     "timestamp": 1555949874882,
     "user": {
      "displayName": "Aman Jain",
      "photoUrl": "https://lh3.googleusercontent.com/-2L9lzNXz50I/AAAAAAAAAAI/AAAAAAAABI0/rHBzy7ajd9w/s64/photo.jpg",
      "userId": "03223253466755539380"
     },
     "user_tz": -330
    },
    "id": "4L_z31tctmNC",
    "outputId": "3dd25497-40dd-4521-9d19-90a983a26781"
   },
   "outputs": [
    {
     "name": "stderr",
     "output_type": "stream",
     "text": [
      "100%|██████████| 1348949/1348949 [00:46<00:00, 28752.98it/s]\n"
     ]
    }
   ],
   "source": [
    "train_dict['DED_LOG'] = {}\n",
    "for i in tqdm.tqdm(range(len(train_dict['src']))):\n",
    "  DED_SCORE = train_dict['DED'][i]\n",
    "  if(DED_SCORE):\n",
    "    train_dict['DED_LOG'][i] = DED_SCORE * np.log(len(set(train_graph.successors(train_dict['src'][i]))))\n",
    "  else:\n",
    "    train_dict['DED_LOG'][i] = 0"
   ]
  },
  {
   "cell_type": "code",
   "execution_count": 0,
   "metadata": {
    "colab": {
     "base_uri": "https://localhost:8080/",
     "height": 34
    },
    "colab_type": "code",
    "executionInfo": {
     "elapsed": 335150,
     "status": "ok",
     "timestamp": 1555949881266,
     "user": {
      "displayName": "Aman Jain",
      "photoUrl": "https://lh3.googleusercontent.com/-2L9lzNXz50I/AAAAAAAAAAI/AAAAAAAABI0/rHBzy7ajd9w/s64/photo.jpg",
      "userId": "03223253466755539380"
     },
     "user_tz": -330
    },
    "id": "7Qw51_N7Ljbc",
    "outputId": "874b0c02-81b8-464c-dd8b-7cce4778dd01"
   },
   "outputs": [
    {
     "name": "stderr",
     "output_type": "stream",
     "text": [
      "100%|██████████| 1772801/1772801 [00:06<00:00, 286986.70it/s]\n"
     ]
    }
   ],
   "source": [
    "#IND_LOG\n",
    "\n",
    "test_dict['IND_LOG'] = {}\n",
    "for i in tqdm.tqdm(range(len(test_dict['src']))):\n",
    "  IND_SCORE = test_dict['IND'][i]\n",
    "  if(IND_SCORE):\n",
    "    test_dict['IND_LOG'][i] = IND_SCORE * np.log(len(set(test_graph.predecessors(test_dict['src'][i]))))\n",
    "  else:\n",
    "    test_dict['IND_LOG'][i] = 0"
   ]
  },
  {
   "cell_type": "code",
   "execution_count": 0,
   "metadata": {
    "colab": {
     "base_uri": "https://localhost:8080/",
     "height": 34
    },
    "colab_type": "code",
    "executionInfo": {
     "elapsed": 357255,
     "status": "ok",
     "timestamp": 1555949903763,
     "user": {
      "displayName": "Aman Jain",
      "photoUrl": "https://lh3.googleusercontent.com/-2L9lzNXz50I/AAAAAAAAAAI/AAAAAAAABI0/rHBzy7ajd9w/s64/photo.jpg",
      "userId": "03223253466755539380"
     },
     "user_tz": -330
    },
    "id": "ahIzQ2ngtwbv",
    "outputId": "6a338ce7-20dd-4ef6-8cfc-b6f70497d3b5"
   },
   "outputs": [
    {
     "name": "stderr",
     "output_type": "stream",
     "text": [
      "100%|██████████| 1348949/1348949 [00:22<00:00, 60412.14it/s] \n"
     ]
    }
   ],
   "source": [
    "train_dict['IND_LOG'] = {}\n",
    "for i in tqdm.tqdm(range(len(train_dict['src']))):\n",
    "  IND_SCORE = train_dict['IND'][i]\n",
    "  if(IND_SCORE):\n",
    "    train_dict['IND_LOG'][i] = IND_SCORE * np.log(len(set(train_graph.predecessors(train_dict['src'][i]))))\n",
    "  else:\n",
    "    train_dict['IND_LOG'][i] = 0"
   ]
  },
  {
   "cell_type": "code",
   "execution_count": 0,
   "metadata": {
    "colab": {
     "base_uri": "https://localhost:8080/",
     "height": 54
    },
    "colab_type": "code",
    "executionInfo": {
     "elapsed": 1099,
     "status": "ok",
     "timestamp": 1556024217639,
     "user": {
      "displayName": "Aman Jain",
      "photoUrl": "https://lh3.googleusercontent.com/-2L9lzNXz50I/AAAAAAAAAAI/AAAAAAAABI0/rHBzy7ajd9w/s64/photo.jpg",
      "userId": "03223253466755539380"
     },
     "user_tz": -330
    },
    "id": "SHibt8ebryjn",
    "outputId": "879b4b9b-f104-40e8-aa26-2938d98e116e"
   },
   "outputs": [
    {
     "data": {
      "text/plain": [
       "dict_keys(['src', 'tar', 'label', 'DED', 'IND', 'DED_LOG', 'IND_LOG', 'INF', 'INF_2D', 'INF_2I', 'INF_LOG', 'INF_LOG_2D', 'INF_LOG_2I', 'RA', 'JC', 'AA', 'PA', 'RA_CNI', 'SA', 'SO', 'HPI', 'HDI', 'cos_sim'])"
      ]
     },
     "execution_count": 13,
     "metadata": {
      "tags": []
     },
     "output_type": "execute_result"
    }
   ],
   "source": [
    "test_dict.keys()"
   ]
  },
  {
   "cell_type": "markdown",
   "metadata": {
    "colab_type": "text",
    "id": "-hT35i_bTMNh"
   },
   "source": [
    "# Features for Directed Graphs"
   ]
  },
  {
   "cell_type": "markdown",
   "metadata": {
    "colab_type": "text",
    "id": "PFr3Kbf5TPe8"
   },
   "source": [
    "**New features based on direction of edges in graphs**"
   ]
  },
  {
   "cell_type": "code",
   "execution_count": 0,
   "metadata": {
    "colab": {
     "base_uri": "https://localhost:8080/",
     "height": 54
    },
    "colab_type": "code",
    "executionInfo": {
     "elapsed": 990,
     "status": "ok",
     "timestamp": 1556024021504,
     "user": {
      "displayName": "Aman Jain",
      "photoUrl": "https://lh3.googleusercontent.com/-2L9lzNXz50I/AAAAAAAAAAI/AAAAAAAABI0/rHBzy7ajd9w/s64/photo.jpg",
      "userId": "03223253466755539380"
     },
     "user_tz": -330
    },
    "id": "SJotJTJTtGPe",
    "outputId": "ba92f1ef-3327-4fd4-b0a4-050d4cc612ff"
   },
   "outputs": [
    {
     "data": {
      "text/plain": [
       "dict_keys(['src', 'tar', 'label', 'DED', 'IND', 'DED_LOG', 'IND_LOG', 'INF', 'INF_2D', 'INF_2I', 'INF_LOG', 'INF_LOG_2D', 'INF_LOG_2I', 'RA', 'JC', 'AA', 'PA', 'RA_CNI', 'SA', 'SO', 'HPI', 'HDI', 'cos_sim'])"
      ]
     },
     "execution_count": 12,
     "metadata": {
      "tags": []
     },
     "output_type": "execute_result"
    }
   ],
   "source": [
    "train_dict.keys()"
   ]
  },
  {
   "cell_type": "code",
   "execution_count": 0,
   "metadata": {
    "colab": {},
    "colab_type": "code",
    "id": "BkmADrUwHD8v"
   },
   "outputs": [],
   "source": [
    "# Feature 1 : Combined INF Score : DED + INF\n",
    "test_dict['INF'] = dict(enumerate(np.add(list(test_dict['IND'].values()), list(test_dict['DED'].values()))))\n",
    "train_dict['INF'] = dict(enumerate(np.add(list(train_dict['IND'].values()), list(train_dict['DED'].values()))))\n",
    "\n",
    "\n",
    "# Feature 2 : Combined INF_2D Score : 2*DED + INF\n",
    "test_dict['INF_2D'] = dict(enumerate(np.add(np.array(list(test_dict['IND'].values())), np.array(list(test_dict['DED'].values())) * 2)))\n",
    "train_dict['INF_2D'] = dict(enumerate(np.add(np.array(list(train_dict['IND'].values())), np.array(list(train_dict['DED'].values())) * 2)))\n",
    "\n",
    "# Feature 3 : Combined INF_2I Score : DED + 2*INF\n",
    "test_dict['INF_2I'] = dict(enumerate(np.add(np.array(list(test_dict['IND'].values())) * 2, np.array(list(test_dict['DED'].values())))))\n",
    "train_dict['INF_2I'] = dict(enumerate(np.add(np.array(list(train_dict['IND'].values())) * 2, np.array(list(train_dict['DED'].values())))))\n",
    "\n",
    "# Feature 4 : Combined INF_LOG Score : DED_LOG + INF_LOG\n",
    "test_dict['INF_LOG'] = dict(enumerate(np.add(np.array(list(test_dict['IND_LOG'].values())), np.array(list(test_dict['DED_LOG'].values())))))\n",
    "train_dict['INF_LOG'] = dict(enumerate(np.add(np.array(list(train_dict['IND_LOG'].values())), np.array(list(train_dict['DED_LOG'].values())))))\n",
    "\n",
    "# Feature 5 : Combined INF_LOG_2D Score : 2 *DED_LOG + INF_LOG\n",
    "test_dict['INF_LOG_2D'] = dict(enumerate(np.add(np.array(list(test_dict['IND_LOG'].values())), np.array(list(test_dict['DED_LOG'].values())) * 2)))\n",
    "train_dict['INF_LOG_2D'] = dict(enumerate(np.add(np.array(list(train_dict['IND_LOG'].values())), np.array(list(train_dict['DED_LOG'].values())) * 2)))\n",
    "\n",
    "# Feature 6 : Combined INF_LOG_2I Score : DED_LOG + 2*INF_LOG\n",
    "test_dict['INF_LOG_2I'] = dict(enumerate(np.add(np.array(list(test_dict['IND_LOG'].values())) * 2, np.array(list(test_dict['DED_LOG'].values())))))\n",
    "train_dict['INF_LOG_2I'] = dict(enumerate(np.add(np.array(list(train_dict['IND_LOG'].values())) * 2, np.array(list(train_dict['DED_LOG'].values())))))"
   ]
  },
  {
   "cell_type": "markdown",
   "metadata": {
    "colab_type": "text",
    "id": "zavf50EmUH9d"
   },
   "source": [
    "**Hierarchical Undirected Scores**\n",
    "\n",
    "We reformulate classical link predictions features for undirected graph link prediction to directed graphs"
   ]
  },
  {
   "cell_type": "code",
   "execution_count": 0,
   "metadata": {
    "colab": {},
    "colab_type": "code",
    "id": "fpvO-IHYYmX5"
   },
   "outputs": [],
   "source": [
    "undirected_test_graph = nx.to_undirected(test_graph)\n",
    "undirected_train_graph = nx.to_undirected(train_graph)"
   ]
  },
  {
   "cell_type": "code",
   "execution_count": 0,
   "metadata": {
    "colab": {},
    "colab_type": "code",
    "id": "fDswnYb8_ziO"
   },
   "outputs": [],
   "source": [
    "# Feature 7: Common Neighbors\n",
    "def common_neighbors(G, ebunch = None):\n",
    "\n",
    "  u = ebunch[0]\n",
    "  v = ebunch[1]\n",
    "  \n",
    "  common_neighbors =  [w for w in G[u] if w in G[v] and w not in (u, v)]\n",
    "  return len(common_neighbors)\n"
   ]
  },
  {
   "cell_type": "code",
   "execution_count": 15,
   "metadata": {
    "colab": {
     "base_uri": "https://localhost:8080/",
     "height": 50
    },
    "colab_type": "code",
    "executionInfo": {
     "elapsed": 1535171,
     "status": "ok",
     "timestamp": 1556390670725,
     "user": {
      "displayName": "Aman Jain",
      "photoUrl": "https://lh3.googleusercontent.com/-2L9lzNXz50I/AAAAAAAAAAI/AAAAAAAABI0/rHBzy7ajd9w/s64/photo.jpg",
      "userId": "03223253466755539380"
     },
     "user_tz": -330
    },
    "id": "iO59JYRd-tlG",
    "outputId": "5f5c8066-7b4b-4f2d-89c8-caa490033297"
   },
   "outputs": [
    {
     "name": "stderr",
     "output_type": "stream",
     "text": [
      "100%|██████████| 1772801/1772801 [14:17<00:00, 2066.35it/s] \n",
      "100%|██████████| 1348949/1348949 [11:16<00:00, 1994.73it/s] \n"
     ]
    }
   ],
   "source": [
    "#test\n",
    "test_dict['CN'] = {}\n",
    "\n",
    "for i in tqdm.tqdm(range(len(test_dict['src']))):\n",
    "  \n",
    "  src = test_dict['src'][i]\n",
    "  tar = test_dict['tar'][i]\n",
    "  \n",
    "  if(test_graph.in_degree(src) > test_graph.in_degree(tar)):\n",
    "    test_dict['CN'][i] = common_neighbors(undirected_test_graph, (src,tar))\n",
    "  else:\n",
    "    test_dict['CN'][i] = 0    \n",
    "    \n",
    "#train\n",
    "train_dict['CN'] = {}\n",
    "\n",
    "for i in tqdm.tqdm(range(len(train_dict['src']))):\n",
    "  \n",
    "  src = train_dict['src'][i]\n",
    "  tar = train_dict['tar'][i]\n",
    "  \n",
    "  if(train_graph.in_degree(src) > train_graph.in_degree(tar)):\n",
    "    train_dict['CN'][i] = common_neighbors(undirected_train_graph,(src, tar))\n",
    "  else:\n",
    "    train_dict['CN'][i] = 0"
   ]
  },
  {
   "cell_type": "code",
   "execution_count": 11,
   "metadata": {
    "colab": {
     "base_uri": "https://localhost:8080/",
     "height": 54
    },
    "colab_type": "code",
    "executionInfo": {
     "elapsed": 42482,
     "status": "ok",
     "timestamp": 1556388658299,
     "user": {
      "displayName": "Aman Jain",
      "photoUrl": "https://lh3.googleusercontent.com/-2L9lzNXz50I/AAAAAAAAAAI/AAAAAAAABI0/rHBzy7ajd9w/s64/photo.jpg",
      "userId": "03223253466755539380"
     },
     "user_tz": -330
    },
    "id": "RwDs_MDN_Vq8",
    "outputId": "35cdaa07-09cc-42b6-e361-bd5b3019e290"
   },
   "outputs": [
    {
     "data": {
      "text/plain": [
       "dict_keys(['src', 'tar', 'label', 'DED', 'IND', 'DED_LOG', 'IND_LOG', 'INF', 'INF_2D', 'INF_2I', 'INF_LOG', 'INF_LOG_2D', 'INF_LOG_2I', 'RA', 'JC', 'AA', 'PA', 'RA_CNI', 'SA', 'SO', 'HPI', 'HDI', 'cos_sim'])"
      ]
     },
     "execution_count": 11,
     "metadata": {
      "tags": []
     },
     "output_type": "execute_result"
    }
   ],
   "source": [
    "test_dict.keys()"
   ]
  },
  {
   "cell_type": "code",
   "execution_count": 0,
   "metadata": {
    "colab": {
     "base_uri": "https://localhost:8080/",
     "height": 50
    },
    "colab_type": "code",
    "executionInfo": {
     "elapsed": 1491805,
     "status": "ok",
     "timestamp": 1555951767158,
     "user": {
      "displayName": "Aman Jain",
      "photoUrl": "https://lh3.googleusercontent.com/-2L9lzNXz50I/AAAAAAAAAAI/AAAAAAAABI0/rHBzy7ajd9w/s64/photo.jpg",
      "userId": "03223253466755539380"
     },
     "user_tz": -330
    },
    "id": "Jecto7iMUVjr",
    "outputId": "efc93943-f53e-45a4-c4f0-44e175d2eb1d"
   },
   "outputs": [
    {
     "name": "stderr",
     "output_type": "stream",
     "text": [
      "100%|██████████| 1772801/1772801 [15:18<00:00, 1929.99it/s] \n",
      "100%|██████████| 1348949/1348949 [12:03<00:00, 1865.46it/s] \n"
     ]
    }
   ],
   "source": [
    "# Feature 8: Resource Allocation Index\n",
    "\n",
    "def resource_allocation_index(G, ebunch=None):\n",
    "    if ebunch is None:\n",
    "        ebunch = nx.non_edges(G)\n",
    "    def predict(u, v):\n",
    "        return sum(1 / G.degree(w) for w in nx.common_neighbors(G, u, v))\n",
    "    return predict(ebunch[0], ebunch[1])\n",
    "\n",
    "test_dict['RA'] = {}\n",
    "\n",
    "for i in tqdm.tqdm(range(len(test_dict['src']))):\n",
    "  src = test_dict['src'][i]\n",
    "  tar = test_dict['tar'][i]\n",
    "  if(test_graph.in_degree(src) > test_graph.in_degree(tar)):\n",
    "    test_dict['RA'][i] = resource_allocation_index(undirected_test_graph, (src, tar))\n",
    "  else:\n",
    "    test_dict['RA'][i] = 0    \n",
    "\n",
    "train_dict['RA'] = {}\n",
    "\n",
    "for i in tqdm.tqdm(range(len(train_dict['src']))):\n",
    "  src = train_dict['src'][i]\n",
    "  tar = train_dict['tar'][i]\n",
    "  if(train_graph.in_degree(src) > train_graph.in_degree(tar)):\n",
    "    train_dict['RA'][i] = resource_allocation_index(undirected_train_graph, (src, tar))\n",
    "  else:\n",
    "    train_dict['RA'][i] = 0"
   ]
  },
  {
   "cell_type": "code",
   "execution_count": 0,
   "metadata": {
    "colab": {
     "base_uri": "https://localhost:8080/",
     "height": 34
    },
    "colab_type": "code",
    "executionInfo": {
     "elapsed": 23069,
     "status": "ok",
     "timestamp": 1555952040986,
     "user": {
      "displayName": "Aman Jain",
      "photoUrl": "https://lh3.googleusercontent.com/-2L9lzNXz50I/AAAAAAAAAAI/AAAAAAAABI0/rHBzy7ajd9w/s64/photo.jpg",
      "userId": "03223253466755539380"
     },
     "user_tz": -330
    },
    "id": "BLMAfZ3_C2wS",
    "outputId": "39d9de25-779d-4e4f-985f-6d1b4e8dabd2"
   },
   "outputs": [
    {
     "data": {
      "text/plain": [
       "dict_keys(['src', 'tar', 'label', 'DED', 'IND', 'DED_LOG', 'IND_LOG', 'INF', 'INF_2D', 'INF_2I', 'INF_LOG', 'INF_LOG_2D', 'INF_LOG_2I', 'RA'])"
      ]
     },
     "execution_count": 10,
     "metadata": {
      "tags": []
     },
     "output_type": "execute_result"
    }
   ],
   "source": [
    "test_dict.keys()"
   ]
  },
  {
   "cell_type": "code",
   "execution_count": 0,
   "metadata": {
    "colab": {
     "base_uri": "https://localhost:8080/",
     "height": 50
    },
    "colab_type": "code",
    "executionInfo": {
     "elapsed": 1675160,
     "status": "ok",
     "timestamp": 1555954014717,
     "user": {
      "displayName": "Aman Jain",
      "photoUrl": "https://lh3.googleusercontent.com/-2L9lzNXz50I/AAAAAAAAAAI/AAAAAAAABI0/rHBzy7ajd9w/s64/photo.jpg",
      "userId": "03223253466755539380"
     },
     "user_tz": -330
    },
    "id": "zMcmDiZWUVhx",
    "outputId": "badc6168-8c51-43c6-cdf8-9c809099e660"
   },
   "outputs": [
    {
     "name": "stderr",
     "output_type": "stream",
     "text": [
      "100%|██████████| 1772801/1772801 [15:36<00:00, 1893.55it/s] \n",
      "100%|██████████| 1348949/1348949 [12:18<00:00, 1826.86it/s] \n"
     ]
    }
   ],
   "source": [
    "# Feature 9: Jaccard Coefficient\n",
    "\n",
    "def jaccard_coefficient(G, ebunch=None):\n",
    "    if ebunch is None:\n",
    "        ebunch = nx.non_edges(G)\n",
    "    def predict(u, v):\n",
    "        cnbors = list(nx.common_neighbors(G, u, v))\n",
    "        union_size = len(set(G[u]) | set(G[v]))\n",
    "        if union_size == 0:\n",
    "            return 0\n",
    "        else:\n",
    "            return len(cnbors) / union_size\n",
    "    return predict(ebunch[0], ebunch[1])\n",
    "\n",
    "test_dict['JC'] = {}\n",
    "\n",
    "for i in tqdm.tqdm(range(len(test_dict['src']))):\n",
    "  \n",
    "  src = test_dict['src'][i]\n",
    "  tar = test_dict['tar'][i]\n",
    "  \n",
    "  if(test_graph.in_degree(src) > test_graph.in_degree(tar)):\n",
    "    test_dict['JC'][i] = jaccard_coefficient(undirected_test_graph, (src, tar))\n",
    "  else:\n",
    "    test_dict['JC'][i] = 0\n",
    "\n",
    "train_dict['JC'] = {}\n",
    "\n",
    "for i in tqdm.tqdm(range(len(train_dict['src']))):\n",
    "  \n",
    "  src = train_dict['src'][i]\n",
    "  tar = train_dict['tar'][i]\n",
    "  \n",
    "  if(train_graph.in_degree(src) > train_graph.in_degree(tar)):\n",
    "    train_dict['JC'][i] = jaccard_coefficient(undirected_train_graph, (src, tar))\n",
    "  else:\n",
    "    train_dict['JC'][i] = 0"
   ]
  },
  {
   "cell_type": "code",
   "execution_count": 0,
   "metadata": {
    "colab": {
     "base_uri": "https://localhost:8080/",
     "height": 34
    },
    "colab_type": "code",
    "executionInfo": {
     "elapsed": 26256,
     "status": "ok",
     "timestamp": 1555954370787,
     "user": {
      "displayName": "Aman Jain",
      "photoUrl": "https://lh3.googleusercontent.com/-2L9lzNXz50I/AAAAAAAAAAI/AAAAAAAABI0/rHBzy7ajd9w/s64/photo.jpg",
      "userId": "03223253466755539380"
     },
     "user_tz": -330
    },
    "id": "0asxZ3J5FppA",
    "outputId": "31100ba5-7b37-44de-cb77-5fc1af64807e"
   },
   "outputs": [
    {
     "data": {
      "text/plain": [
       "dict_keys(['src', 'tar', 'label', 'DED', 'IND', 'DED_LOG', 'IND_LOG', 'INF', 'INF_2D', 'INF_2I', 'INF_LOG', 'INF_LOG_2D', 'INF_LOG_2I', 'RA', 'JC'])"
      ]
     },
     "execution_count": 10,
     "metadata": {
      "tags": []
     },
     "output_type": "execute_result"
    }
   ],
   "source": [
    "test_dict.keys()"
   ]
  },
  {
   "cell_type": "code",
   "execution_count": 0,
   "metadata": {
    "colab": {
     "base_uri": "https://localhost:8080/",
     "height": 50
    },
    "colab_type": "code",
    "executionInfo": {
     "elapsed": 1625452,
     "status": "ok",
     "timestamp": 1555956026667,
     "user": {
      "displayName": "Aman Jain",
      "photoUrl": "https://lh3.googleusercontent.com/-2L9lzNXz50I/AAAAAAAAAAI/AAAAAAAABI0/rHBzy7ajd9w/s64/photo.jpg",
      "userId": "03223253466755539380"
     },
     "user_tz": -330
    },
    "id": "--55QShaUVfR",
    "outputId": "9b530d6e-5ca0-4d21-dabd-a5b046b3e5f4"
   },
   "outputs": [
    {
     "name": "stderr",
     "output_type": "stream",
     "text": [
      "100%|██████████| 1772801/1772801 [15:09<00:00, 1949.66it/s] \n",
      "100%|██████████| 1348949/1348949 [11:55<00:00, 1886.08it/s] \n"
     ]
    }
   ],
   "source": [
    "# Feature 10: Adamic Adar Index\n",
    "import math\n",
    "\n",
    "def adamic_adar_index(G, ebunch=None):\n",
    "  if ebunch is None:\n",
    "        ebunch = nx.non_edges(G)\n",
    "  def predict(u, v):\n",
    "      return sum(1 / math.log(G.degree(w))\n",
    "                 for w in nx.common_neighbors(G, u, v))\n",
    "  return predict(ebunch[0], ebunch[1])\n",
    "\n",
    "\n",
    "test_dict['AA'] = {}\n",
    "\n",
    "for i in tqdm.tqdm(range(len(test_dict['src']))):\n",
    "  \n",
    "  src = test_dict['src'][i]\n",
    "  tar = test_dict['tar'][i]\n",
    "  \n",
    "  if(test_graph.in_degree(src) > test_graph.in_degree(tar)):\n",
    "    test_dict['AA'][i] = adamic_adar_index(undirected_test_graph, (src, tar))\n",
    "  else:\n",
    "    test_dict['AA'][i] = 0\n",
    "    \n",
    "train_dict['AA'] = {}\n",
    "\n",
    "for i in tqdm.tqdm(range(len(train_dict['src']))):\n",
    "  \n",
    "  src = train_dict['src'][i]\n",
    "  tar = train_dict['tar'][i]\n",
    "  \n",
    "  if(train_graph.in_degree(src) > train_graph.in_degree(tar)):\n",
    "    train_dict['AA'][i] = adamic_adar_index(undirected_train_graph, (src, tar))\n",
    "  else:\n",
    "    train_dict['AA'][i] = 0"
   ]
  },
  {
   "cell_type": "code",
   "execution_count": 0,
   "metadata": {
    "colab": {
     "base_uri": "https://localhost:8080/",
     "height": 34
    },
    "colab_type": "code",
    "executionInfo": {
     "elapsed": 28094,
     "status": "ok",
     "timestamp": 1555956232687,
     "user": {
      "displayName": "Aman Jain",
      "photoUrl": "https://lh3.googleusercontent.com/-2L9lzNXz50I/AAAAAAAAAAI/AAAAAAAABI0/rHBzy7ajd9w/s64/photo.jpg",
      "userId": "03223253466755539380"
     },
     "user_tz": -330
    },
    "id": "2-t7fBlTHUbY",
    "outputId": "73b837f1-b22b-4cf3-e71a-16efc0963196"
   },
   "outputs": [
    {
     "data": {
      "text/plain": [
       "dict_keys(['src', 'tar', 'label', 'DED', 'IND', 'DED_LOG', 'IND_LOG', 'INF', 'INF_2D', 'INF_2I', 'INF_LOG', 'INF_LOG_2D', 'INF_LOG_2I', 'RA', 'JC', 'AA'])"
      ]
     },
     "execution_count": 11,
     "metadata": {
      "tags": []
     },
     "output_type": "execute_result"
    }
   ],
   "source": [
    "test_dict.keys()"
   ]
  },
  {
   "cell_type": "code",
   "execution_count": 0,
   "metadata": {
    "colab": {
     "base_uri": "https://localhost:8080/",
     "height": 50
    },
    "colab_type": "code",
    "executionInfo": {
     "elapsed": 75718,
     "status": "ok",
     "timestamp": 1555956281348,
     "user": {
      "displayName": "Aman Jain",
      "photoUrl": "https://lh3.googleusercontent.com/-2L9lzNXz50I/AAAAAAAAAAI/AAAAAAAABI0/rHBzy7ajd9w/s64/photo.jpg",
      "userId": "03223253466755539380"
     },
     "user_tz": -330
    },
    "id": "BJu62OR1UVdH",
    "outputId": "bdd3d05e-1c68-4872-f222-8a7b72f0f8f0"
   },
   "outputs": [
    {
     "name": "stderr",
     "output_type": "stream",
     "text": [
      "100%|██████████| 1772801/1772801 [00:27<00:00, 64275.98it/s]\n",
      "100%|██████████| 1348949/1348949 [00:21<00:00, 62980.31it/s]\n"
     ]
    }
   ],
   "source": [
    "# Feature 11: Preferential Attachment\n",
    "\n",
    "def preferential_attachment(G, ebunch=None):\n",
    "    if ebunch is None:\n",
    "        ebunch = nx.non_edges(G)\n",
    "    return G.degree(ebunch[0]) * G.degree(ebunch[1])\n",
    "\n",
    "test_dict['PA'] = {}\n",
    "\n",
    "for i in tqdm.tqdm(range(len(test_dict['src']))):\n",
    "  \n",
    "  src = test_dict['src'][i]\n",
    "  tar = test_dict['tar'][i]\n",
    "  \n",
    "  if(test_graph.in_degree(src) > test_graph.in_degree(tar)):\n",
    "    test_dict['PA'][i] = preferential_attachment(undirected_test_graph, (src,tar))\n",
    "  else:\n",
    "    test_dict['PA'][i] = 0    \n",
    "    \n",
    "train_dict['PA'] = {}\n",
    "\n",
    "for i in tqdm.tqdm(range(len(train_dict['src']))):\n",
    "  \n",
    "  src = train_dict['src'][i]\n",
    "  tar = train_dict['tar'][i]\n",
    "  \n",
    "  if(train_graph.in_degree(src) > train_graph.in_degree(tar)):\n",
    "    train_dict['PA'][i] = preferential_attachment(undirected_train_graph,(src, tar))\n",
    "  else:\n",
    "    train_dict['PA'][i] = 0"
   ]
  },
  {
   "cell_type": "code",
   "execution_count": 0,
   "metadata": {
    "colab": {
     "base_uri": "https://localhost:8080/",
     "height": 54
    },
    "colab_type": "code",
    "executionInfo": {
     "elapsed": 20268,
     "status": "ok",
     "timestamp": 1555961324300,
     "user": {
      "displayName": "Aman Jain",
      "photoUrl": "https://lh3.googleusercontent.com/-2L9lzNXz50I/AAAAAAAAAAI/AAAAAAAABI0/rHBzy7ajd9w/s64/photo.jpg",
      "userId": "03223253466755539380"
     },
     "user_tz": -330
    },
    "id": "nU8pLoU_hTML",
    "outputId": "e45b870a-2daf-4b49-a6b4-ea07a915c678"
   },
   "outputs": [
    {
     "data": {
      "text/plain": [
       "dict_keys(['src', 'tar', 'label', 'DED', 'IND', 'DED_LOG', 'IND_LOG', 'INF', 'INF_2D', 'INF_2I', 'INF_LOG', 'INF_LOG_2D', 'INF_LOG_2I', 'RA', 'JC', 'AA', 'PA'])"
      ]
     },
     "execution_count": 129,
     "metadata": {
      "tags": []
     },
     "output_type": "execute_result"
    }
   ],
   "source": [
    "train_dict.keys()"
   ]
  },
  {
   "cell_type": "code",
   "execution_count": 0,
   "metadata": {
    "colab": {},
    "colab_type": "code",
    "id": "wwywYPlD0-ZQ"
   },
   "outputs": [],
   "source": [
    "#Feature 12: Resource Allocation based on Common Nighbour Interacions (RA-CNI)\n",
    "\n",
    "def resource_allocation_CNI(G, ebunch = None):\n",
    "  u = ebunch[0]\n",
    "  v = ebunch[1]\n",
    "  \n",
    "  common_neighbors =  [w for w in G[u] if w in G[v] and w not in (u, v)]\n",
    "  first = sum([1/(len(set(G.neighbors(i)))) for i in common_neighbors])\n",
    "  \n",
    "  neigbhor_x = G.neighbors(u)\n",
    "  neigbhor_y = G.neighbors(v)\n",
    "  \n",
    "  second = sum([(1/(len(set(G.neighbors(cross[0]))))) - (1/(len(set(G.neighbors(cross[1]))))) for cross in list(itertools.product(list(neighbor_x), list(neighbor_y))) \n",
    "                if cross in list(undirected_test_graph.edges)])\n",
    "  \n",
    "  return second + first"
   ]
  },
  {
   "cell_type": "code",
   "execution_count": 0,
   "metadata": {
    "colab": {
     "base_uri": "https://localhost:8080/",
     "height": 50
    },
    "colab_type": "code",
    "executionInfo": {
     "elapsed": 2454538,
     "status": "ok",
     "timestamp": 1555963883531,
     "user": {
      "displayName": "Aman Jain",
      "photoUrl": "https://lh3.googleusercontent.com/-2L9lzNXz50I/AAAAAAAAAAI/AAAAAAAABI0/rHBzy7ajd9w/s64/photo.jpg",
      "userId": "03223253466755539380"
     },
     "user_tz": -330
    },
    "id": "j7PrdaG3hPuS",
    "outputId": "8e0650ee-352b-4025-f07b-6e05d862c7f0"
   },
   "outputs": [
    {
     "name": "stderr",
     "output_type": "stream",
     "text": [
      "100%|██████████| 1772801/1772801 [23:37<00:00, 1251.00it/s] \n",
      "100%|██████████| 1348949/1348949 [17:16<00:00, 1301.27it/s] \n"
     ]
    }
   ],
   "source": [
    "test_dict['RA_CNI'] = {}\n",
    "\n",
    "for i in tqdm.tqdm(range(len(test_dict['src']))):\n",
    "  \n",
    "  src = test_dict['src'][i]\n",
    "  tar = test_dict['tar'][i]\n",
    "  \n",
    "  if(test_graph.in_degree(src) > test_graph.in_degree(tar)):\n",
    "    test_dict['RA_CNI'][i] = resource_allocation_CNI(undirected_test_graph, (src,tar))\n",
    "  else:\n",
    "    test_dict['RA_CNI'][i] = 0    \n",
    "    \n",
    "train_dict['RA_CNI'] = {}\n",
    "\n",
    "for i in tqdm.tqdm(range(len(train_dict['src']))):\n",
    "  \n",
    "  src = train_dict['src'][i]\n",
    "  tar = train_dict['tar'][i]\n",
    "  \n",
    "  if(train_graph.in_degree(src) > train_graph.in_degree(tar)):\n",
    "    train_dict['RA_CNI'][i] = resource_allocation_CNI(undirected_train_graph,(src, tar))\n",
    "  else:\n",
    "    train_dict['RA_CNI'][i] = 0"
   ]
  },
  {
   "cell_type": "code",
   "execution_count": 0,
   "metadata": {
    "colab": {
     "base_uri": "https://localhost:8080/",
     "height": 54
    },
    "colab_type": "code",
    "executionInfo": {
     "elapsed": 29651,
     "status": "ok",
     "timestamp": 1555964123380,
     "user": {
      "displayName": "Aman Jain",
      "photoUrl": "https://lh3.googleusercontent.com/-2L9lzNXz50I/AAAAAAAAAAI/AAAAAAAABI0/rHBzy7ajd9w/s64/photo.jpg",
      "userId": "03223253466755539380"
     },
     "user_tz": -330
    },
    "id": "4GhDSMqlrROM",
    "outputId": "4f9c9cf6-6b52-47b5-9fca-7b44d69dc3f9"
   },
   "outputs": [
    {
     "data": {
      "text/plain": [
       "dict_keys(['src', 'tar', 'label', 'DED', 'IND', 'DED_LOG', 'IND_LOG', 'INF', 'INF_2D', 'INF_2I', 'INF_LOG', 'INF_LOG_2D', 'INF_LOG_2I', 'RA', 'JC', 'AA', 'PA', 'RA_CNI'])"
      ]
     },
     "execution_count": 9,
     "metadata": {
      "tags": []
     },
     "output_type": "execute_result"
    }
   ],
   "source": [
    "train_dict.keys()"
   ]
  },
  {
   "cell_type": "code",
   "execution_count": 0,
   "metadata": {
    "colab": {},
    "colab_type": "code",
    "id": "CQTgL_O4gYx4"
   },
   "outputs": [],
   "source": [
    "#Feature 13: The Salton Index (SA)\n",
    "\n",
    "def salton_index(G, ebunch = None):\n",
    "  u = ebunch[0]\n",
    "  v = ebunch[1]\n",
    "  \n",
    "  common_neighbors =  [w for w in G[u] if w in G[v] and w not in (u, v)]\n",
    "  return len(common_neighbors)/np.sqrt(len(set(G.neighbors(u)))*len(set(G.neighbors(v))))"
   ]
  },
  {
   "cell_type": "code",
   "execution_count": 0,
   "metadata": {
    "colab": {
     "base_uri": "https://localhost:8080/",
     "height": 50
    },
    "colab_type": "code",
    "executionInfo": {
     "elapsed": 1618475,
     "status": "ok",
     "timestamp": 1555965804504,
     "user": {
      "displayName": "Aman Jain",
      "photoUrl": "https://lh3.googleusercontent.com/-2L9lzNXz50I/AAAAAAAAAAI/AAAAAAAABI0/rHBzy7ajd9w/s64/photo.jpg",
      "userId": "03223253466755539380"
     },
     "user_tz": -330
    },
    "id": "NVC7uB6Ek4t8",
    "outputId": "a118e810-bca9-4647-8eae-bfa8f6278b01"
   },
   "outputs": [
    {
     "name": "stderr",
     "output_type": "stream",
     "text": [
      "100%|██████████| 1772801/1772801 [15:06<00:00, 1955.87it/s] \n",
      "100%|██████████| 1348949/1348949 [11:50<00:00, 1898.31it/s] \n"
     ]
    }
   ],
   "source": [
    "test_dict['SA'] = {}\n",
    "\n",
    "for i in tqdm.tqdm(range(len(test_dict['src']))):\n",
    "  \n",
    "  src = test_dict['src'][i]\n",
    "  tar = test_dict['tar'][i]\n",
    "  \n",
    "  if(test_graph.in_degree(src) > test_graph.in_degree(tar)):\n",
    "    test_dict['SA'][i] = salton_index(undirected_test_graph, (src,tar))\n",
    "  else:\n",
    "    test_dict['SA'][i] = 0    \n",
    "    \n",
    "train_dict['SA'] = {}\n",
    "\n",
    "for i in tqdm.tqdm(range(len(train_dict['src']))):\n",
    "  \n",
    "  src = train_dict['src'][i]\n",
    "  tar = train_dict['tar'][i]\n",
    "  \n",
    "  if(train_graph.in_degree(src) > train_graph.in_degree(tar)):\n",
    "    train_dict['SA'][i] = salton_index(undirected_train_graph,(src, tar))\n",
    "  else:\n",
    "    train_dict['SA'][i] = 0"
   ]
  },
  {
   "cell_type": "code",
   "execution_count": 0,
   "metadata": {
    "colab": {
     "base_uri": "https://localhost:8080/",
     "height": 54
    },
    "colab_type": "code",
    "executionInfo": {
     "elapsed": 31027,
     "status": "ok",
     "timestamp": 1555966042216,
     "user": {
      "displayName": "Aman Jain",
      "photoUrl": "https://lh3.googleusercontent.com/-2L9lzNXz50I/AAAAAAAAAAI/AAAAAAAABI0/rHBzy7ajd9w/s64/photo.jpg",
      "userId": "03223253466755539380"
     },
     "user_tz": -330
    },
    "id": "O-fdqV1OsiZE",
    "outputId": "e0ae1334-ee65-4f71-f640-1e02ff08d24a"
   },
   "outputs": [
    {
     "data": {
      "text/plain": [
       "dict_keys(['src', 'tar', 'label', 'DED', 'IND', 'DED_LOG', 'IND_LOG', 'INF', 'INF_2D', 'INF_2I', 'INF_LOG', 'INF_LOG_2D', 'INF_LOG_2I', 'RA', 'JC', 'AA', 'PA', 'RA_CNI', 'SA'])"
      ]
     },
     "execution_count": 10,
     "metadata": {
      "tags": []
     },
     "output_type": "execute_result"
    }
   ],
   "source": [
    "train_dict.keys()"
   ]
  },
  {
   "cell_type": "code",
   "execution_count": 0,
   "metadata": {
    "colab": {},
    "colab_type": "code",
    "id": "wYgwmAbxlp_8"
   },
   "outputs": [],
   "source": [
    "#Feature 14: The Sørensen Index (SO)\n",
    "\n",
    "def sorenson_index(G, ebunch = None):\n",
    "  u = ebunch[0]\n",
    "  v = ebunch[1]\n",
    "  \n",
    "  common_neighbors =  [w for w in G[u] if w in G[v] and w not in (u, v)]\n",
    "  return (2 * len(common_neighbors))/(len(set(G.neighbors(u))) + len(set(G.neighbors(v))))"
   ]
  },
  {
   "cell_type": "code",
   "execution_count": 0,
   "metadata": {
    "colab": {
     "base_uri": "https://localhost:8080/",
     "height": 50
    },
    "colab_type": "code",
    "executionInfo": {
     "elapsed": 1593833,
     "status": "ok",
     "timestamp": 1555967651096,
     "user": {
      "displayName": "Aman Jain",
      "photoUrl": "https://lh3.googleusercontent.com/-2L9lzNXz50I/AAAAAAAAAAI/AAAAAAAABI0/rHBzy7ajd9w/s64/photo.jpg",
      "userId": "03223253466755539380"
     },
     "user_tz": -330
    },
    "id": "O672YQnelqAI",
    "outputId": "4bf30f28-2d76-44a4-9569-00835633e2cd"
   },
   "outputs": [
    {
     "name": "stderr",
     "output_type": "stream",
     "text": [
      "100%|██████████| 1772801/1772801 [14:47<00:00, 1998.04it/s] \n",
      "100%|██████████| 1348949/1348949 [11:45<00:00, 1912.03it/s] \n"
     ]
    }
   ],
   "source": [
    "test_dict['SO'] = {}\n",
    "\n",
    "for i in tqdm.tqdm(range(len(test_dict['src']))):\n",
    "  \n",
    "  src = test_dict['src'][i]\n",
    "  tar = test_dict['tar'][i]\n",
    "  \n",
    "  if(test_graph.in_degree(src) > test_graph.in_degree(tar)):\n",
    "    test_dict['SO'][i] = sorenson_index(undirected_test_graph, (src,tar))\n",
    "  else:\n",
    "    test_dict['SO'][i] = 0    \n",
    "    \n",
    "train_dict['SO'] = {}\n",
    "\n",
    "for i in tqdm.tqdm(range(len(train_dict['src']))):\n",
    "  \n",
    "  src = train_dict['src'][i]\n",
    "  tar = train_dict['tar'][i]\n",
    "  \n",
    "  if(train_graph.in_degree(src) > train_graph.in_degree(tar)):\n",
    "    train_dict['SO'][i] = sorenson_index(undirected_train_graph,(src, tar))\n",
    "  else:\n",
    "    train_dict['SO'][i] = 0"
   ]
  },
  {
   "cell_type": "code",
   "execution_count": 0,
   "metadata": {
    "colab": {
     "base_uri": "https://localhost:8080/",
     "height": 54
    },
    "colab_type": "code",
    "executionInfo": {
     "elapsed": 31527,
     "status": "ok",
     "timestamp": 1555967897038,
     "user": {
      "displayName": "Aman Jain",
      "photoUrl": "https://lh3.googleusercontent.com/-2L9lzNXz50I/AAAAAAAAAAI/AAAAAAAABI0/rHBzy7ajd9w/s64/photo.jpg",
      "userId": "03223253466755539380"
     },
     "user_tz": -330
    },
    "id": "2iZWrWT5uX-m",
    "outputId": "a5eae663-5faa-4401-a3b2-a8f692269e27"
   },
   "outputs": [
    {
     "data": {
      "text/plain": [
       "dict_keys(['src', 'tar', 'label', 'DED', 'IND', 'DED_LOG', 'IND_LOG', 'INF', 'INF_2D', 'INF_2I', 'INF_LOG', 'INF_LOG_2D', 'INF_LOG_2I', 'RA', 'JC', 'AA', 'PA', 'RA_CNI', 'SA', 'SO'])"
      ]
     },
     "execution_count": 10,
     "metadata": {
      "tags": []
     },
     "output_type": "execute_result"
    }
   ],
   "source": [
    "train_dict.keys()"
   ]
  },
  {
   "cell_type": "code",
   "execution_count": 0,
   "metadata": {
    "colab": {},
    "colab_type": "code",
    "id": "DkJOd3bWme1K"
   },
   "outputs": [],
   "source": [
    "#Feature 15: Hub Promoted Index (HPI)\n",
    "\n",
    "def hub_promoted_index(G, ebunch = None):\n",
    "  u = ebunch[0]\n",
    "  v = ebunch[1]\n",
    "  \n",
    "  common_neighbors =  [w for w in G[u] if w in G[v] and w not in (u, v)]\n",
    "  return len(common_neighbors)/min(len(set(G.neighbors(u))) , len(set(G.neighbors(v))))"
   ]
  },
  {
   "cell_type": "code",
   "execution_count": 0,
   "metadata": {
    "colab": {
     "base_uri": "https://localhost:8080/",
     "height": 50
    },
    "colab_type": "code",
    "executionInfo": {
     "elapsed": 1631224,
     "status": "ok",
     "timestamp": 1555969507769,
     "user": {
      "displayName": "Aman Jain",
      "photoUrl": "https://lh3.googleusercontent.com/-2L9lzNXz50I/AAAAAAAAAAI/AAAAAAAABI0/rHBzy7ajd9w/s64/photo.jpg",
      "userId": "03223253466755539380"
     },
     "user_tz": -330
    },
    "id": "cwQT_iZ3me1N",
    "outputId": "bff53aa0-616a-4880-dc21-0197396600b3"
   },
   "outputs": [
    {
     "name": "stderr",
     "output_type": "stream",
     "text": [
      "100%|██████████| 1772801/1772801 [15:04<00:00, 1959.11it/s] \n",
      "100%|██████████| 1348949/1348949 [11:45<00:00, 1910.91it/s] \n"
     ]
    }
   ],
   "source": [
    "test_dict['HPI'] = {}\n",
    "\n",
    "for i in tqdm.tqdm(range(len(test_dict['src']))):\n",
    "  \n",
    "  src = test_dict['src'][i]\n",
    "  tar = test_dict['tar'][i]\n",
    "  \n",
    "  if(test_graph.in_degree(src) > test_graph.in_degree(tar)):\n",
    "    test_dict['HPI'][i] = hub_promoted_index(undirected_test_graph, (src,tar))\n",
    "  else:\n",
    "    test_dict['HPI'][i] = 0    \n",
    "    \n",
    "train_dict['HPI'] = {}\n",
    "\n",
    "for i in tqdm.tqdm(range(len(train_dict['src']))):\n",
    "  \n",
    "  src = train_dict['src'][i]\n",
    "  tar = train_dict['tar'][i]\n",
    "  \n",
    "  if(train_graph.in_degree(src) > train_graph.in_degree(tar)):\n",
    "    train_dict['HPI'][i] = hub_promoted_index(undirected_train_graph,(src, tar))\n",
    "  else:\n",
    "    train_dict['HPI'][i] = 0"
   ]
  },
  {
   "cell_type": "code",
   "execution_count": 0,
   "metadata": {
    "colab": {
     "base_uri": "https://localhost:8080/",
     "height": 54
    },
    "colab_type": "code",
    "executionInfo": {
     "elapsed": 32845,
     "status": "ok",
     "timestamp": 1555970321986,
     "user": {
      "displayName": "Aman Jain",
      "photoUrl": "https://lh3.googleusercontent.com/-2L9lzNXz50I/AAAAAAAAAAI/AAAAAAAABI0/rHBzy7ajd9w/s64/photo.jpg",
      "userId": "03223253466755539380"
     },
     "user_tz": -330
    },
    "id": "mAWoJEonuZ6E",
    "outputId": "9f35e31b-b34a-47e4-dfa9-8b1b9cead726"
   },
   "outputs": [
    {
     "data": {
      "text/plain": [
       "dict_keys(['src', 'tar', 'label', 'DED', 'IND', 'DED_LOG', 'IND_LOG', 'INF', 'INF_2D', 'INF_2I', 'INF_LOG', 'INF_LOG_2D', 'INF_LOG_2I', 'RA', 'JC', 'AA', 'PA', 'RA_CNI', 'SA', 'SO', 'HPI'])"
      ]
     },
     "execution_count": 10,
     "metadata": {
      "tags": []
     },
     "output_type": "execute_result"
    }
   ],
   "source": [
    "train_dict.keys()"
   ]
  },
  {
   "cell_type": "code",
   "execution_count": 0,
   "metadata": {
    "colab": {},
    "colab_type": "code",
    "id": "83hpfrvnsa2P"
   },
   "outputs": [],
   "source": [
    "#Feature 16: Hub Depressed Index (HDI)\n",
    "\n",
    "def hub_depressed_index(G, ebunch = None):\n",
    "  u = ebunch[0]\n",
    "  v = ebunch[1]\n",
    "  \n",
    "  common_neighbors =  [w for w in G[u] if w in G[v] and w not in (u, v)]\n",
    "  return len(common_neighbors)/max(len(set(G.neighbors(u))) , len(set(G.neighbors(v))))"
   ]
  },
  {
   "cell_type": "code",
   "execution_count": 0,
   "metadata": {
    "colab": {
     "base_uri": "https://localhost:8080/",
     "height": 50
    },
    "colab_type": "code",
    "executionInfo": {
     "elapsed": 1604205,
     "status": "ok",
     "timestamp": 1555971935482,
     "user": {
      "displayName": "Aman Jain",
      "photoUrl": "https://lh3.googleusercontent.com/-2L9lzNXz50I/AAAAAAAAAAI/AAAAAAAABI0/rHBzy7ajd9w/s64/photo.jpg",
      "userId": "03223253466755539380"
     },
     "user_tz": -330
    },
    "id": "mTVE84Gcsa2c",
    "outputId": "bebd0c9e-315e-42fb-c8a4-5c7ab4d71a60"
   },
   "outputs": [
    {
     "name": "stderr",
     "output_type": "stream",
     "text": [
      "100%|██████████| 1772801/1772801 [14:53<00:00, 1983.55it/s] \n",
      "100%|██████████| 1348949/1348949 [11:49<00:00, 1902.57it/s] \n"
     ]
    }
   ],
   "source": [
    "#test\n",
    "test_dict['HDI'] = {}\n",
    "\n",
    "for i in tqdm.tqdm(range(len(test_dict['src']))):\n",
    "  \n",
    "  src = test_dict['src'][i]\n",
    "  tar = test_dict['tar'][i]\n",
    "  \n",
    "  if(test_graph.in_degree(src) > test_graph.in_degree(tar)):\n",
    "    test_dict['HDI'][i] = hub_depressed_index(undirected_test_graph, (src,tar))\n",
    "  else:\n",
    "    test_dict['HDI'][i] = 0    \n",
    "    \n",
    "\n",
    "#train\n",
    "train_dict['HDI'] = {}\n",
    "\n",
    "for i in tqdm.tqdm(range(len(train_dict['src']))):\n",
    "  \n",
    "  src = train_dict['src'][i]\n",
    "  tar = train_dict['tar'][i]\n",
    "  \n",
    "  if(train_graph.in_degree(src) > train_graph.in_degree(tar)):\n",
    "    train_dict['HDI'][i] = hub_depressed_index(undirected_train_graph,(src, tar))\n",
    "  else:\n",
    "    train_dict['HDI'][i] = 0"
   ]
  },
  {
   "cell_type": "code",
   "execution_count": 0,
   "metadata": {
    "colab": {},
    "colab_type": "code",
    "id": "5QL9Ii2vud35"
   },
   "outputs": [],
   "source": [
    "test_dict_df = pd.DataFrame(test_dict)\n",
    "train_dict_df = pd.DataFrame(train_dict)"
   ]
  },
  {
   "cell_type": "code",
   "execution_count": 0,
   "metadata": {
    "colab": {},
    "colab_type": "code",
    "id": "kfBfwn-Hud3-"
   },
   "outputs": [],
   "source": [
    "test_dict_df.to_csv('./input/test_dict_df.csv', header = True, index = False)\n",
    "train_dict_df.to_csv('./input/train_dict_df.csv', header = True, index = False)"
   ]
  }
 ],
 "metadata": {
  "colab": {
   "collapsed_sections": [],
   "name": "3 calculate_features part 2.ipynb",
   "provenance": [],
   "version": "0.3.2"
  },
  "kernelspec": {
   "display_name": "Python 3",
   "language": "python",
   "name": "python3"
  },
  "language_info": {
   "codemirror_mode": {
    "name": "ipython",
    "version": 3
   },
   "file_extension": ".py",
   "mimetype": "text/x-python",
   "name": "python",
   "nbconvert_exporter": "python",
   "pygments_lexer": "ipython3",
   "version": "3.7.0"
  }
 },
 "nbformat": 4,
 "nbformat_minor": 1
}
